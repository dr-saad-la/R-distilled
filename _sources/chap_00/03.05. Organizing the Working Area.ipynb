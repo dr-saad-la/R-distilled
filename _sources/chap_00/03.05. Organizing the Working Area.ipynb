{
 "cells": [
  {
   "cell_type": "markdown",
   "id": "dc5eba7b-0194-4565-96d5-68bf490402e4",
   "metadata": {},
   "source": [
    "## Organizing the Work Area\n",
    "\n",
    "\n",
    "### Render Side By Side\n",
    "\n",
    " - From the view menu, or just (`shift + R`), you can extend one side by moving hovering the mouse over the edge and hold the right key and drag to the left to expand the code area or to the left to shrink it.\n",
    " \n",
    " \n"
   ]
  },
  {
   "cell_type": "markdown",
   "id": "957df3e8-b1f1-434d-a899-437ddb6b19b0",
   "metadata": {
    "tags": []
   },
   "source": [
    "### Split the Screen in Jupyter Lab\n",
    "\n",
    "- To split the screen in Jupyter Lab, select a Jupyter Lab tab with the mouse and drag it to the right to split the screen vertically, or to the bottom to split the screen horizontally."
   ]
  },
  {
   "cell_type": "code",
   "execution_count": 1,
   "id": "564ea64f-74fb-48e5-a80b-659c67f9e189",
   "metadata": {
    "tags": []
   },
   "outputs": [
    {
     "name": "stdout",
     "output_type": "stream",
     "text": [
      "[1] \"Hell world\"\n"
     ]
    }
   ],
   "source": [
    "print(\"Hell world\")"
   ]
  },
  {
   "cell_type": "code",
   "execution_count": null,
   "id": "d4c8de0e-afcc-44aa-977a-04d9cba5cb53",
   "metadata": {},
   "outputs": [],
   "source": []
  }
 ],
 "metadata": {
  "kernelspec": {
   "display_name": "R",
   "language": "R",
   "name": "ir"
  },
  "language_info": {
   "codemirror_mode": "r",
   "file_extension": ".r",
   "mimetype": "text/x-r-source",
   "name": "R",
   "pygments_lexer": "r",
   "version": "4.1.2"
  },
  "widgets": {
   "application/vnd.jupyter.widget-state+json": {
    "state": {},
    "version_major": 2,
    "version_minor": 0
   }
  }
 },
 "nbformat": 4,
 "nbformat_minor": 5
}
