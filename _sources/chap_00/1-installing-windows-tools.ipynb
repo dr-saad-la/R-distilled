{
 "cells": [
  {
   "cell_type": "markdown",
   "id": "264156de",
   "metadata": {},
   "source": [
    "# Installing Windows Useful Tools and Utilities\n",
    "\n",
    "Before installing `R` and `RStudio`, I would like to introduce a few additional tools that, while not mandatory, can significantly enhance your software engineering workflow. These tools are designed to streamline various tasks, making your development process more efficient and enjoyable.\n",
    "\n",
    "In this section, we will cover the installation of the following utilities:\n",
    "\n",
    "- **Chocolatey (choco)**: A powerful package manager for Windows that simplifies the installation and management of software.\n",
    "- **wget**: A command-line utility for downloading files from the web, which is especially useful for automating batch downloads.\n",
    "- **curl**: Another command-line tool for transferring data with URLs, offering flexibility for a variety of network-related tasks.\n",
    "\n",
    "By incorporating these tools into your toolkit, you can leverage their capabilities to improve your overall productivity and streamline various aspects of your development environment."
   ]
  },
  {
   "cell_type": "markdown",
   "id": "8ce98bdc",
   "metadata": {},
   "source": [
    "## Installing `Chocolatey` Windows Package Manager \n",
    "\n",
    "### Requirements\n",
    "\n",
    "- Supported Windows client and server Operating Systems (can run on older Operating Systems)\n",
    "- PowerShell v2+ (minimum is v3 for install from this website due to TLS 1.2 requirement)\n",
    "- `.NET Framework 4.8` (the installation will attempt to install `.NET 4.8` if you do not have it installed)"
   ]
  },
  {
   "cell_type": "markdown",
   "id": "a2d10faa",
   "metadata": {},
   "source": [
    "### Installing `Chocolatey` \n",
    "\n",
    "- You can start the command prompt by typing `cmd` in the search (usually looks like the magnifying glass), You will find the Command Prompt App. Note that you need have to run it in admin mode since you are installing a new software. Or use a combination of keys from the keyboard (Win + R), then type cmd in the Run dialog, to start cmd in Admin mode, you need to use `Ctrl + Shift + enter` keys. \n",
    "\n",
    "- You can open PowerShell the same way.\n",
    "\n",
    "- Here is the link to install `choco` using CMD: [Install with cmd](https://community.chocolatey.org/courses/installation/installing)\n",
    "\n",
    "- Or you can install that from the PowerShell from this [Install with PowerShell](https://community.chocolatey.org/courses/installation/installing#powershell)\n",
    "  "
   ]
  },
  {
   "cell_type": "markdown",
   "id": "51cee09f",
   "metadata": {},
   "source": [
    "### Installing `wget` or `curl` \n",
    "\n",
    "- You can install `wget` or `curl` utilities to download softwares or package from the Internet. Using these tools facilitates the downloading process, however, you do not need to use them if don't want to. \n",
    "\n",
    "- You can download `wget` from the [official website](https://gnuwin32.sourceforge.net/packages/wget.htm) and then run the installer, and follow the installation instruction. Wait, we just downloaded a Windows package manager, this will make your life a lot easier, and now it the time to discover a world of fun using the command prompt, I am quite sure you will fall in love with using the command prompt. \n",
    "\n",
    "- To install `wget` using `choco` simply run the following command (You must start CMD or PowerShell in admin mode)\n",
    "\n",
    "```bash\n",
    "choco install wget \n",
    "```\n",
    "- This will prompt you to type `y` to confirm the installation, if you trust the package, you can even suppress the confirmation prompt by adding `-y` flag like this: \n",
    "\n",
    "```bash \n",
    "choco install wget -y\n",
    "```\n",
    "\n",
    "- Voila, that is it, `wget` installed on your system and it is ready to for use. I told you, the using the command prompt will make your life easier. "
   ]
  }
 ],
 "metadata": {
  "kernelspec": {
   "display_name": "R",
   "language": "R",
   "name": "ir"
  },
  "language_info": {
   "codemirror_mode": "r",
   "file_extension": ".r",
   "mimetype": "text/x-r-source",
   "name": "R",
   "pygments_lexer": "r",
   "version": "4.1.2"
  }
 },
 "nbformat": 4,
 "nbformat_minor": 5
}
