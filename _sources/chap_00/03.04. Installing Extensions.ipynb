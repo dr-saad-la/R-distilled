{
 "cells": [
  {
   "cell_type": "code",
   "execution_count": null,
   "id": "eb6c220f-aad0-454d-91e8-89242225d313",
   "metadata": {},
   "outputs": [],
   "source": []
  },
  {
   "cell_type": "code",
   "execution_count": null,
   "id": "e246467f-70be-4fb4-9f9e-80cabcbf7433",
   "metadata": {},
   "outputs": [],
   "source": []
  },
  {
   "cell_type": "code",
   "execution_count": null,
   "id": "f44c8004-1846-4a30-aeea-aa64c28afed0",
   "metadata": {},
   "outputs": [],
   "source": []
  },
  {
   "cell_type": "code",
   "execution_count": null,
   "id": "aa3594d0-2c8d-464f-84af-28318cd24c0f",
   "metadata": {},
   "outputs": [],
   "source": []
  },
  {
   "cell_type": "markdown",
   "id": "7681ccf3-e3c6-4ade-9544-cdf1ad4738b2",
   "metadata": {},
   "source": [
    "### Installing Extensions\n",
    "\n",
    "#### Python Tutor\n",
    "\n",
    "url = https://jupyterlab-contrib.github.io/jupyterlab-pytutor.html\n",
    "\n",
    "#### Installing Search jupyterlab-search-replace\n",
    "\n",
    "```bash\n",
    "pip install jupyterlab jupyterlab-search-replace\n",
    "```\n",
    "\n",
    "\n",
    "url = https://jupyterlab-contrib.github.io/search-replace.html"
   ]
  },
  {
   "cell_type": "markdown",
   "id": "e06f77ae-de6f-4d55-a087-e3b88c9abdf8",
   "metadata": {},
   "source": [
    "#### Installing Spellchecker \n",
    "\n",
    "```bash\n",
    "pip install jupyterlab-spellchecker\n",
    "#or Using conda manager \n",
    "conda install -c conda-forge jupyterlab-spellchecker\n",
    "```\n",
    "\n",
    "source = https://jupyterlab-contrib.github.io/spellchecker.htmlhttps://jupyterlab-contrib.github.io/spellchecker.html"
   ]
  },
  {
   "cell_type": "markdown",
   "id": "5c2800b2-5e8b-4d5f-98f2-89ec33ce5589",
   "metadata": {},
   "source": [
    "#### Jupyter Lab Snippets\n",
    "\n",
    "- url = https://github.com/QuantStack/jupyterlab-snippets"
   ]
  },
  {
   "cell_type": "code",
   "execution_count": null,
   "id": "605332a6-d300-4017-b11b-fe365ae03571",
   "metadata": {},
   "outputs": [],
   "source": []
  },
  {
   "cell_type": "markdown",
   "id": "02e249d2-361f-4479-be30-ec1045e6b3fb",
   "metadata": {},
   "source": [
    "### References\n",
    "\n",
    "- https://jupyterlab.readthedocs.io/en/latest/getting_started/overview.html\n",
    "\n",
    "- Installing-Extensions = https://jupyterlab.readthedocs.io/en/stable/user/extensions.html#installing-extensions\n",
    "\n",
    "- List of Extensions = https://pypi.org/search/?q=jupyterlab&o=\n",
    "\n",
    "- Unofficial-List of Extensions = https://jupyterlab-contrib.github.io/"
   ]
  },
  {
   "cell_type": "code",
   "execution_count": null,
   "id": "c02a9a99-92fd-4323-bcd0-c39792f34c19",
   "metadata": {},
   "outputs": [],
   "source": []
  },
  {
   "cell_type": "code",
   "execution_count": null,
   "id": "aafdbc9f-3e17-41ec-a080-e6b5172204fd",
   "metadata": {},
   "outputs": [],
   "source": []
  },
  {
   "cell_type": "code",
   "execution_count": null,
   "id": "a5143e0e-a75a-4e7c-8d67-13e5ec7c6dfa",
   "metadata": {},
   "outputs": [],
   "source": []
  },
  {
   "cell_type": "markdown",
   "id": "ec721dc6-fc42-491a-adaf-6aba44b1abc3",
   "metadata": {},
   "source": [
    "## Installing New Themes for Jupyter Lab\n",
    "\n",
    "\n",
    "- You can install other themes for Jupyter Lab, here is a list of themes for jupyter lab: \n",
    "\n",
    "    1. Theme dracula\n",
    "    2. Theme monoco\n",
    "    3. ..."
   ]
  },
  {
   "cell_type": "code",
   "execution_count": null,
   "id": "c81264f5-f9a9-404c-8675-0ce314e3d4f4",
   "metadata": {},
   "outputs": [],
   "source": []
  }
 ],
 "metadata": {
  "kernelspec": {
   "display_name": "R",
   "language": "R",
   "name": "ir"
  },
  "language_info": {
   "codemirror_mode": "r",
   "file_extension": ".r",
   "mimetype": "text/x-r-source",
   "name": "R",
   "pygments_lexer": "r",
   "version": "4.1.2"
  },
  "widgets": {
   "application/vnd.jupyter.widget-state+json": {
    "state": {},
    "version_major": 2,
    "version_minor": 0
   }
  }
 },
 "nbformat": 4,
 "nbformat_minor": 5
}
