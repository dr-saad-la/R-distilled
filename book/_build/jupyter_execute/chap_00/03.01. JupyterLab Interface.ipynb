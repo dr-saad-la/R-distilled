{
 "cells": [
  {
   "cell_type": "markdown",
   "id": "9b21b5b2-7566-43c7-995b-deec79e6ceab",
   "metadata": {},
   "source": [
    "## Jupyter Lab Interface\n",
    "\n",
    "- JupyterLab provides flexible building blocks for interactive, exploratory computing. While JupyterLab has many features found in traditional integrated development environments (IDEs), it remains focused on interactive, exploratory computing.\n",
    "\n",
    "- The JupyterLab interface consistsof:\n",
    "    - A main work area containing tabs of documents and activities,\n",
    "    - A collapsible left sidebar\n",
    "    - Menu bar.\n",
    "    \n",
    "- The left sidebar contains:\n",
    "    - a file browser\n",
    "    - The list of running kernels\n",
    "    - Terminals\n",
    "    - The command palette\n",
    "    - The notebook cell tools inspector\n",
    "    - The tabs list."
   ]
  },
  {
   "cell_type": "markdown",
   "id": "bcba7b70-c6a7-4af9-9651-d337c475755d",
   "metadata": {
    "tags": []
   },
   "source": [
    "## Menu Bar\n",
    "The menu bar at the top of JupyterLab has top-level menus that expose actions available in JupyterLab with their keyboard shortcuts. The default menus are:\n",
    "\n",
    "- File: actions related to files and directories\n",
    "\n",
    "- Edit: actions related to editing documents and other activities\n",
    "\n",
    "- View: actions that alter the appearance of JupyterLab\n",
    "\n",
    "- Run: actions for running code in different activities such as notebooks and code consoles\n",
    "\n",
    "- Kernel: actions for managing kernels, which are separate processes for running code\n",
    "\n",
    "- Tabs: a list of the open documents and activities in the dock panel\n",
    "\n",
    "- Settings: common settings and an advanced settings editor\n",
    "\n",
    "- Help: a list of JupyterLab and kernel help links "
   ]
  },
  {
   "cell_type": "markdown",
   "id": "a9c499de-060c-475d-b28e-24fa4c99b7ba",
   "metadata": {},
   "source": [
    "## Left and Right Sidebar\n",
    "The left sidebar contains a number of commonly-used tabs including:\n",
    "\n",
    "- a file browser,\n",
    "\n",
    "- a list of tabs in the main work and of running kernels and terminals,\n",
    "\n",
    "- The command palette (in 3.0+ moved to a modal window accessible with a keyboard shortcut),\n",
    "\n",
    "- The table of contents,\n",
    "\n",
    "- The extension manager.\n",
    "\n"
   ]
  },
  {
   "cell_type": "markdown",
   "id": "44c6ef38-c006-4053-9ea3-5911b7e34ecb",
   "metadata": {},
   "source": [
    "## Main Work Area\n",
    "\n",
    "- The main work area in JupyterLab enables you to arrange documents (notebooks, text files, etc.) and other activities (terminals, code consoles, etc.) into panels of tabs that can be resized or subdivided. Drag a tab to the center of a tab panel to move the tab to the panel. Subdivide a tab panel by dragging a tab to the left, right, top, or bottom of the panel:\n",
    "\n",
    "\n",
    "- The work area has a single current activity. The tab for the current activity is marked with a colored top border (blue by default)."
   ]
  },
  {
   "cell_type": "markdown",
   "id": "2b8ae766-80d3-49ae-81bb-99832c8801f4",
   "metadata": {},
   "source": [
    "## Tabs and Simple Interface Mode\n",
    "The Tabs panel in the left sidebar lists the open documents or activities in the main work area:"
   ]
  },
  {
   "cell_type": "markdown",
   "id": "97eb871c-c314-470e-98c5-d2a47864e418",
   "metadata": {},
   "source": [
    "- It is often useful to focus on a single document or activity without closing other tabs in the main work area. Simple Interface mode enables this, while making it easy to return to your multi-activity layout in the main work area. Toggle Simple Interface mode using the View menu:"
   ]
  },
  {
   "cell_type": "markdown",
   "id": "3ae46b7e-fb49-4e25-943f-b0bbcd8c03fc",
   "metadata": {},
   "source": [
    "## Context Menus\n",
    "Many parts of JupyterLab, such as notebooks, text files, code consoles, and tabs, have context menus that can be accessed by right-clicking on the element:\n"
   ]
  },
  {
   "cell_type": "markdown",
   "id": "7eea4a39-b7d4-455f-8392-4993b50be942",
   "metadata": {},
   "source": [
    "## Keyboard Shortcuts\n",
    "As in the classic Notebook, you can navigate the user interface through keyboard shortcuts. You can find and customize the current list of keyboard shortcuts by selecting the Advanced Settings Editor item in the Settings menu, then selecting Keyboard Shortcuts in the Settings tab."
   ]
  },
  {
   "cell_type": "markdown",
   "id": "2e5d6f30-42b5-4694-b6a2-474428ab37ca",
   "metadata": {
    "tags": []
   },
   "source": [
    "## Notebooks \n",
    "- Jupyter notebooks are documents that combine live runnable code with narrative text (Markdown), equations (LaTeX), images, interactive visualizations and other rich output:\n",
    "\n",
    "- Jupyter notebooks (.ipynb files) are fully supported in JupyterLab. The notebook document format used in JupyterLab is the same as in the classic Jupyter Notebook. Your existing notebooks should open correctly in JupyterLab. If they don’t, please open an issue on our GitHub issues page.\n",
    "\n",
    "Create a notebook by clicking the + button in the file browser and then selecting a kernel in the new Launcher tab:\n"
   ]
  },
  {
   "cell_type": "markdown",
   "id": "e6e07140-252d-410a-94a9-5920f2f3e13c",
   "metadata": {},
   "source": [
    "- A new file is created with a default name. Rename a file by right-clicking on its name in the file browser and selecting “Rename” from the context menu: "
   ]
  },
  {
   "cell_type": "markdown",
   "id": "7456220f-d755-40fb-aeca-9806f7c31465",
   "metadata": {},
   "source": [
    "- The user interface for notebooks in JupyterLab closely follows that of the classic Jupyter Notebook. The keyboard shortcuts of the classic Notebook continue to work (with command and edit mode). However, a number of new things are possible with notebooks in JupyterLab.\n",
    "\n",
    "- **Drag and drop cells to rearrange your notebook:**"
   ]
  },
  {
   "cell_type": "markdown",
   "id": "fdf675fc-ec28-4a84-97ca-067f837cd5ca",
   "metadata": {},
   "source": [
    "**Drag cells between notebooks to quickly copy content:**"
   ]
  },
  {
   "cell_type": "markdown",
   "id": "2c4d79d7-2b71-4b64-aa0e-ee32e221a5af",
   "metadata": {},
   "source": [
    "**Create multiple synchronized views of a single notebook**\n",
    "\n",
    "**Collapse and expand code and output using the View menu or the blue collapser button on left of each cell:**"
   ]
  },
  {
   "cell_type": "markdown",
   "id": "0191a2eb-6371-4025-905a-581fb086e68d",
   "metadata": {},
   "source": [
    "**Enable scrolling for long outputs by right-clicking on a cell and selecting “Enable Scrolling for Outputs”:**"
   ]
  },
  {
   "cell_type": "code",
   "execution_count": 1,
   "id": "18ef8d51-618f-41b9-a07f-cd17f8b76063",
   "metadata": {},
   "outputs": [
    {
     "name": "stdout",
     "output_type": "stream",
     "text": [
      "Help on _Helper in module _sitebuiltins object:\n",
      "\n",
      "class _Helper(builtins.object)\n",
      " |  Define the builtin 'help'.\n",
      " |  \n",
      " |  This is a wrapper around pydoc.help that provides a helpful message\n",
      " |  when 'help' is typed at the Python interactive prompt.\n",
      " |  \n",
      " |  Calling help() at the Python prompt starts an interactive help session.\n",
      " |  Calling help(thing) prints help for the python object 'thing'.\n",
      " |  \n",
      " |  Methods defined here:\n",
      " |  \n",
      " |  __call__(self, *args, **kwds)\n",
      " |      Call self as a function.\n",
      " |  \n",
      " |  __repr__(self)\n",
      " |      Return repr(self).\n",
      " |  \n",
      " |  ----------------------------------------------------------------------\n",
      " |  Data descriptors defined here:\n",
      " |  \n",
      " |  __dict__\n",
      " |      dictionary for instance variables\n",
      " |  \n",
      " |  __weakref__\n",
      " |      list of weak references to the object\n",
      "\n"
     ]
    }
   ],
   "source": [
    "help(help)"
   ]
  },
  {
   "cell_type": "markdown",
   "id": "9c892df3-d98e-4464-854e-185c05048e28",
   "metadata": {},
   "source": [
    "**Create a new synchronized view of a cell’s output:**\n",
    "\n",
    "- Right click and then create a **new view for Cell ouptput cell:**\n",
    "- Then drag it to the left side so you can see both sides"
   ]
  },
  {
   "cell_type": "code",
   "execution_count": 2,
   "id": "27d10e6f-832e-4502-aadb-27a3d3d5fa53",
   "metadata": {},
   "outputs": [
    {
     "name": "stdout",
     "output_type": "stream",
     "text": [
      "Hi there I am here to tell that you need to do something crazy\n"
     ]
    }
   ],
   "source": [
    "print(\"Hi there I am here to tell that you need to do something crazy\")"
   ]
  },
  {
   "cell_type": "code",
   "execution_count": 3,
   "id": "687ee047-4914-4ba0-9d93-c84f2b62fe39",
   "metadata": {},
   "outputs": [
    {
     "name": "stdout",
     "output_type": "stream",
     "text": [
      "==> 1\n",
      "==> 2\n",
      "==> 3\n",
      "==> 4\n",
      "==> 5\n",
      "==> 6\n",
      "==> 7\n",
      "==> 8\n",
      "==> 9\n"
     ]
    }
   ],
   "source": [
    "for i in range(1, 10):\n",
    "    print(\"==>\", i)"
   ]
  },
  {
   "cell_type": "code",
   "execution_count": 4,
   "id": "32ffab3c-27b9-446b-8a6e-482c06ad7622",
   "metadata": {},
   "outputs": [
    {
     "name": "stdout",
     "output_type": "stream",
     "text": [
      "I want to do something crazy\n"
     ]
    }
   ],
   "source": [
    "print(\"I want to do something crazy\")"
   ]
  },
  {
   "cell_type": "code",
   "execution_count": 5,
   "id": "bc45ad39-6df7-4b28-ba52-9c1d00dc492d",
   "metadata": {},
   "outputs": [],
   "source": [
    "# This is how it works in this matter"
   ]
  },
  {
   "cell_type": "markdown",
   "id": "daf01852-9621-4296-aa4c-299b53629b02",
   "metadata": {},
   "source": [
    "### Tab completion (activated with the Tab key):\n",
    "\n",
    "- It can now include additional information about the types of the matched items:"
   ]
  },
  {
   "cell_type": "markdown",
   "id": "af4c0087-67a6-4412-87ad-8e0716b5e1ca",
   "metadata": {},
   "source": [
    "### The tooltip (activated with Shift Tab) contains additional information about objects:\n",
    "\n",
    "- This means, press `shift+tab` to get help about a function or something else"
   ]
  },
  {
   "cell_type": "markdown",
   "id": "71776f22-631a-4680-b8bb-13c6b8675169",
   "metadata": {},
   "source": [
    "- This is very useful when using context help menu as well:\n",
    "    - `command + shift + c` then type help, then choose **show Contextual Help** or Just use the shortcut. `(command + I)`"
   ]
  },
  {
   "cell_type": "markdown",
   "id": "ac0e27c8-a9c2-4883-b217-506efc4dc0d0",
   "metadata": {},
   "source": [
    "- You can connect a code console to a notebook kernel to have a log of computations done in the kernel, in the order in which they were done. The attached code console also provides a place to interactively inspect kernel state without changing the notebook. Right-click on a notebook and select “New Console for Notebook”:"
   ]
  },
  {
   "cell_type": "code",
   "execution_count": 6,
   "id": "167cdd0e-76ba-4b86-bf24-d96153ac7800",
   "metadata": {},
   "outputs": [
    {
     "name": "stdout",
     "output_type": "stream",
     "text": [
      "Hi there\n"
     ]
    }
   ],
   "source": [
    "print(\"Hi there\")"
   ]
  },
  {
   "cell_type": "code",
   "execution_count": null,
   "id": "51a9dc95-0545-4c9a-bd97-f80813cb958f",
   "metadata": {
    "editable": true,
    "slideshow": {
     "slide_type": ""
    },
    "tags": []
   },
   "outputs": [],
   "source": []
  },
  {
   "cell_type": "code",
   "execution_count": null,
   "id": "a7d577ad-5648-404e-9bcd-24702ce98d50",
   "metadata": {},
   "outputs": [],
   "source": []
  }
 ],
 "metadata": {
  "kernelspec": {
   "display_name": "Python3.11",
   "language": "python",
   "name": "python3"
  },
  "language_info": {
   "codemirror_mode": {
    "name": "ipython",
    "version": 3
   },
   "file_extension": ".py",
   "mimetype": "text/x-python",
   "name": "python",
   "nbconvert_exporter": "python",
   "pygments_lexer": "ipython3",
   "version": "3.11.7"
  },
  "widgets": {
   "application/vnd.jupyter.widget-state+json": {
    "state": {},
    "version_major": 2,
    "version_minor": 0
   }
  }
 },
 "nbformat": 4,
 "nbformat_minor": 5
}