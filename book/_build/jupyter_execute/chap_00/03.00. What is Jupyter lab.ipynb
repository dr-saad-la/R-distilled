{
 "cells": [
  {
   "cell_type": "markdown",
   "id": "781d24eb-904d-4424-a69e-501eeb0a13fc",
   "metadata": {},
   "source": [
    "## What is Jupyter Lab \n",
    "\n",
    "- **JupyterLab is an open-source web-based interactive development environment** for working with data science, machine learning, scientific computing, and more. It provides an integrated environment where you can create, edit, and run Jupyter notebooks as well as other types of documents and interactive applications.\n",
    "\n",
    "- Key features of JupyterLab include:\n",
    "    - Notebook Interface: JupyterLab offers a notebook interface that allows you to write and execute code in cells. These cells can contain code (Python, R, Julia, etc.), text, mathematical equations, and visualizations.\n",
    "\n",
    "    - Flexible Layout: JupyterLab provides a flexible layout that enables you to arrange multiple documents, notebooks, and interactive panels side by side. This makes it easier to work on different tasks within the same interface.\n",
    "\n",
    "    - Rich Text Support: You can create and format text using Markdown syntax in Markdown cells, allowing you to create documentation, explanations, and annotations alongside your code.\n",
    "\n",
    "    - Integrated Development Environment (IDE) Features: JupyterLab supports various code editing features such as code highlighting, autocompletion, and linting. It also has built-in support for version control systems like Git.\n",
    "\n",
    "    - Interactive Widgets: JupyterLab supports interactive widgets that allow you to create dynamic and responsive user interfaces within notebooks. These widgets can be used for data exploration, visualization, and user interaction.\n",
    "\n",
    "    - File Browser: JupyterLab provides a file browser panel that allows you to manage your files and directories directly within the interface.\n",
    "\n",
    "    - Extensibility: JupyterLab is highly extensible and customizable. You can install extensions to add new functionalities, such as additional editors, visualizations, and tools.\n",
    "\n",
    "    - Kernel Support: JupyterLab can connect to various programming language kernels, which allow you to execute code in different languages and manage their outputs interactively.\n",
    "\n",
    " "
   ]
  },
  {
   "cell_type": "markdown",
   "id": "de4ea6a8-21e1-4479-8f1b-f5cb8e897bcb",
   "metadata": {},
   "source": [
    "## Jupyter User Interfaces \n",
    "\n",
    "1. **JupyterLab**: Advanced web-based application for authoring documents that combine live-code with narrative text, equations and visualizations. \n",
    "2. **Jupyter Notebook**: A web-based application for authoring documents that combine live-code with narrative text, equations and visualizations. \n",
    "\n",
    "3. **Jupyter Desktop**: Desktop application based on JupyterLab for authoring documents that combine live-code with narrative text, equations and visualizations. \n",
    "\n",
    "4. **JupyterLite**: Installation-free application based on JupyterLab for authoring documents that combine live-code with narrative text, equations and visualizations. \n",
    "\n",
    "5. **Jupyter Console**: Terminal based console for interactive computing. \n",
    "\n",
    "6. **Jupyter QtConsole**: Qt application for interactive computing with rich output. \n",
    "\n",
    "[source](https://docs.jupyter.org/en/latest/projects/user-interfaces.html)"
   ]
  },
  {
   "cell_type": "markdown",
   "id": "7adbbc47-0bb2-4391-b40b-55bb78b7e73c",
   "metadata": {},
   "source": [
    "## Kernels \n",
    "\n",
    "- Kernels are programming language specific processes that run independently and interact with the Jupyter Applications and their user interfaces. ipykernel is the reference Jupyter kernel built on top of IPython, providing a powerful environment for interactive computing in Python.\n",
    "\n",
    "[source](https://docs.jupyter.org/en/latest/projects/kernels.html)"
   ]
  },
  {
   "cell_type": "markdown",
   "id": "6cca03cf-3bcd-4a76-be09-1e65fd33be3c",
   "metadata": {},
   "source": [
    "## Understanding how Kernels work\n",
    "\n",
    "- [jupyter-client](https://jupyter-client.readthedocs.io/en/stable/) contains the authoritative description of the Jupyter messaging protocol which is used by clients to communicate with the kernels."
   ]
  },
  {
   "cell_type": "markdown",
   "id": "fd9f800f-06cd-4a2b-9ab1-23a1d84f955d",
   "metadata": {},
   "source": [
    "### Jupyter Kernels \n",
    "\n",
    "url = https://github.com/jupyter/jupyter/wiki/Jupyter-kernels"
   ]
  },
  {
   "cell_type": "markdown",
   "id": "02ae355a-5dbb-4322-b908-88e660010f69",
   "metadata": {},
   "source": [
    "## Jupyter Education \n",
    "\n",
    "- Education\n",
    "Jupyter Notebooks offer exciting and creative possibilities in education. The following subprojects are focused on supporting the use of Jupyter Notebook in a variety of educational settings.\n",
    "\n",
    "Teaching and Learning with Jupyter is a book about using Jupyter in teaching and learning.\n",
    "\n",
    "- [**nbgrader**](https://nbgrader.readthedocs.io/en/stable/): tools for managing, grading, and reporting of notebook based assignments. Documentation | Repo\n",
    "\n",
    "- **jupyter4edu**: GitHub organization hosting community resources for Jupyter in education. [source](https://github.com/jupyter4edu)"
   ]
  },
  {
   "cell_type": "markdown",
   "id": "f156f22c-3a93-4a1f-81ed-32fb40b0df51",
   "metadata": {},
   "source": [
    "## Execution \n",
    "\n",
    "- Jupyter notebooks can be run out of browsers using `nbclient`\n",
    "\n"
   ]
  },
  {
   "cell_type": "markdown",
   "id": "f3b86bf0-d793-40d7-92e3-b48d1e8fb9fa",
   "metadata": {},
   "source": [
    "## nbclient \n",
    "\n",
    "- A client library for programmatic notebook execution, NBClient is a tool for running Jupyter Notebooks in different execution contexts, including the command line. NBClient was spun out of nbconvert’s former ExecutePreprocessor.\n",
    "\n",
    "\n",
    "[source](https://nbclient.readthedocs.io/en/latest/)"
   ]
  },
  {
   "cell_type": "markdown",
   "id": "f24a8c3c-ba4c-4f83-a976-839383c27031",
   "metadata": {},
   "source": [
    "### Installing NBClient \n",
    "\n",
    "```bash\n",
    "python3 -m pip install nbclient\n",
    "```"
   ]
  },
  {
   "cell_type": "markdown",
   "id": "13bc47aa-187b-4e35-aacf-423ba01ee81e",
   "metadata": {},
   "source": [
    "## Deployment and infrastructure\n",
    "\n",
    "- To serve a variety of users and use cases, these subprojects are being developed to support notebook deployment in various contexts, including multiuser capabilities and secure, scalable cloud deployments.\n",
    "\n",
    "- **jupyterhub**: Multi-user notebook for organizations with pluggable authentication and scalability. Documentation | Repo\n",
    "\n",
    "- **nbviewer**: Share notebooks as static HTML on the web. Documentation | Repo\n",
    "\n",
    "- **Binder**: Turn a Git repo into a collection of interactive notebooks Documentation | Repo\n",
    "\n",
    "- **dockerspawner**: Deploy notebooks for ‘jupyterhub’ inside Docker containers. Documentation | Repo\n",
    "\n",
    "- **docker-stacks**: Stacks of Jupyter applications and kernels as Docker containers. Documentation\n",
    "\n",
    "[source](https://docs.jupyter.org/en/latest/projects/deployment.html)"
   ]
  },
  {
   "cell_type": "markdown",
   "id": "9d30d3a7-a508-488a-9223-e1c50121e686",
   "metadata": {},
   "source": [
    "## Documentation\n",
    "\n",
    "url=https://docs.jupyter.org/en/latest/projects/doc-proj-categories.html"
   ]
  },
  {
   "cell_type": "code",
   "execution_count": null,
   "id": "426fc83f-371e-4c5c-8890-d47fe29cf280",
   "metadata": {},
   "outputs": [],
   "source": []
  }
 ],
 "metadata": {
  "kernelspec": {
   "display_name": "R",
   "language": "R",
   "name": "ir"
  },
  "language_info": {
   "codemirror_mode": "r",
   "file_extension": ".r",
   "mimetype": "text/x-r-source",
   "name": "R",
   "pygments_lexer": "r",
   "version": "4.1.2"
  },
  "widgets": {
   "application/vnd.jupyter.widget-state+json": {
    "state": {},
    "version_major": 2,
    "version_minor": 0
   }
  }
 },
 "nbformat": 4,
 "nbformat_minor": 5
}