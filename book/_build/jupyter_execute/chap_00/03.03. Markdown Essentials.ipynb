{
 "cells": [
  {
   "cell_type": "markdown",
   "id": "cbe28d38-a45c-41b7-8e60-1f3e5df21009",
   "metadata": {},
   "source": [
    "# Markdown Essentials\n",
    "\n"
   ]
  },
  {
   "cell_type": "markdown",
   "id": "c01eb557-1a17-4d41-9499-1a311c7ccccb",
   "metadata": {},
   "source": [
    "## Headers  "
   ]
  },
  {
   "cell_type": "markdown",
   "id": "df0bbe0d-1bd3-4d59-87d7-adab912d1187",
   "metadata": {},
   "source": [
    "# Markdown syntax guide\n",
    "\n",
    "## Headers\n",
    "\n",
    "# This is a Heading h1\n",
    "## This is a Heading h2 \n",
    "###### This is a Heading h6\n",
    "\n",
    "## Emphasis\n",
    "\n",
    "*This text will be italic*  \n",
    "_This will also be italic_\n",
    "\n",
    "**This text will be bold**  \n",
    "__This will also be bold__\n",
    "\n",
    "***Italic and bold***\n",
    "\n",
    "_You **can** combine them_\n",
    "\n",
    "## Lists\n",
    "\n",
    "### Unordered\n",
    "\n",
    "* Item 1\n",
    "* Item 2\n",
    "* Item 2a\n",
    "* Item 2b\n",
    "\n",
    "### Ordered\n",
    "\n",
    "1. Item 1\n",
    "1. Item 2\n",
    "1. Item 3\n",
    "  1. Item 3a\n",
    "  1. Item 3b\n",
    "\n",
    "## Images\n",
    "\n",
    "![This is an alt text.](/image/sample.png \"This is a sample image.\")\n",
    "\n",
    "## Links\n",
    "\n",
    "You may be using [Markdown Live Preview](https://markdownlivepreview.com/).\n",
    "\n",
    "## Blockquotes\n",
    "\n",
    "> Markdown is a lightweight markup language with plain-text-formatting syntax, created in 2004 by John Gruber with Aaron Swartz.\n",
    ">\n",
    ">> Markdown is often used to format readme files, for writing messages in online discussion forums, and to create rich text using a plain text editor.\n",
    "\n",
    "## Tables\n",
    "\n",
    "| Left columns  | Right columns |\n",
    "| ------------- |:-------------:|\n",
    "| left foo      | right foo     |\n",
    "| left bar      | right bar     |\n",
    "| left baz      | right baz     |\n",
    "\n",
    "## Blocks of code\n",
    "\n",
    "```\n",
    "let message = 'Hello world';\n",
    "alert(message);\n",
    "```\n",
    "\n",
    "## Inline code\n",
    "\n",
    "This web site is using `markedjs/marked`.\n"
   ]
  },
  {
   "cell_type": "markdown",
   "id": "a1913412-64fb-490f-a645-1f960b1732d0",
   "metadata": {},
   "source": [
    "## References \n",
    "\n",
    "- https://www.markdownguide.org/basic-syntax/"
   ]
  },
  {
   "cell_type": "code",
   "execution_count": null,
   "id": "dddae527-c18a-45bf-9b1f-fd9481197c45",
   "metadata": {},
   "outputs": [],
   "source": []
  }
 ],
 "metadata": {
  "kernelspec": {
   "display_name": "R",
   "language": "R",
   "name": "ir"
  },
  "language_info": {
   "codemirror_mode": "r",
   "file_extension": ".r",
   "mimetype": "text/x-r-source",
   "name": "R",
   "pygments_lexer": "r",
   "version": "4.1.2"
  },
  "widgets": {
   "application/vnd.jupyter.widget-state+json": {
    "state": {},
    "version_major": 2,
    "version_minor": 0
   }
  }
 },
 "nbformat": 4,
 "nbformat_minor": 5
}