{
 "cells": [
  {
   "cell_type": "markdown",
   "id": "b7863655",
   "metadata": {},
   "source": [
    "<div style=\"background-color:#F5F5DC; line-height:1.5; text-align:center;border:2px solid black;\">\n",
    "    <div style=\"color:blue; font-size:24pt; font-weight:700;\">Installing R On Windows Machines</div>\n",
    "</div>"
   ]
  },
  {
   "cell_type": "markdown",
   "id": "239b5b01",
   "metadata": {},
   "source": [
    "# Introduction\n",
    "\n",
    "- Installing softwares sometimes can be tricky or even daunting for computer novices, even for regular or home users. \n",
    "\n",
    "\n",
    "- In this tutorial, we will walk you through R, RStudio IDE, Classic Jupyter and Jupyter lab installation step by step, and with different ways, using graphical user interface and Command Line Interface. We will also use some utilities such as `wget` and `choco` package manager. \n",
    "\n",
    "\n",
    "- The third way of installing R is an advanced way that gives you the ability of full control over installing a software. "
   ]
  },
  {
   "cell_type": "markdown",
   "id": "fe1fc0ab",
   "metadata": {},
   "source": [
    "## Installation and Setup\n",
    "\n",
    "\n",
    "## The Regular Installation\n",
    "\n",
    "- The first step is to install R from [CRAN](https://cran.r-project.org/)"
   ]
  },
  {
   "cell_type": "markdown",
   "id": "71b330ab",
   "metadata": {},
   "source": [
    "## Installing R Using Command Line Interface\n",
    "\n",
    "- Entering the technical world will eventually lead you to use the command line interface or CLI, in Windows, there are two native CLIs, CMD and PowerShell.\n",
    "\n",
    "- In this section, we will discuss how to install R using the command line CMD, you can use PowerShell, or any similar command line installed on your system. \n",
    "  \n",
    "- To be able to follow along this section, you need to install first few utilities in this sequence:\n",
    "    1. Installing `chocolatey (choco)`: Which is a package manager for Windows. \n",
    "    2. Installing `wget` using `choco`, this is optional, however, we prefer to use this tool so we can determine the directory (folder) where the installer will be. \n",
    "    3. Run the installer from the command prompt. \n",
    "\n",
    "- In a later section, we will discuss how to use the command prompt to custom the R installation, knowing this step requires prior knowledge of how computers work, however it provides more control over your system. "
   ]
  },
  {
   "cell_type": "markdown",
   "id": "daf05a6a",
   "metadata": {},
   "source": [
    "### Installing `Chocolatey` \n",
    "\n",
    "- You can start the command prompt by typing `cmd` in the search (usually looks like the magnifying glass), You will find the Command Prompt app, you have to run in admin mode since you are installing a new software. Or use a combination of keys from the keyboard (Win + R), then type cmd in the Run dialog, to start cmd in Admin mode, you need to use `Ctrl + Shift + enter` keys. \n",
    "\n",
    "- You can open PowerShell the same way.\n",
    "\n",
    "- Here is the link to install `choco` using CMD: [Install with cmd](https://community.chocolatey.org/courses/installation/installing)\n",
    "\n",
    "- Or you can install that from the PowerShell from this [Install with PowerShell](https://community.chocolatey.org/courses/installation/installing#powershell)\n",
    "  "
   ]
  },
  {
   "cell_type": "markdown",
   "id": "b6e1f2a6",
   "metadata": {},
   "source": [
    "### Installing `wget` or `curl` \n",
    "\n",
    "- You can install `wget` or `curl` utilities to download softwares or package from the Internet. Using these tools facilitates the downloading process, however, you do not need to use them if don't want to. \n",
    "\n",
    "- You can download `wget` from the [official website](https://gnuwin32.sourceforge.net/packages/wget.htm) and then run the installer, and follow the installation instruction. Wait, we just downloaded a Windows package manager, this will make your life a lot easier, and now it the time to discover a world of fun using the command prompt, I am quite sure you will fall in love with using the command prompt. \n",
    "\n",
    "\n",
    "- To install `wget` using `choco` simply run the following command (You must start CMD or PowerShell in admin mode)\n",
    "\n",
    "```bash\n",
    "choco install wget \n",
    "```\n",
    "- This will prompt you to type `y` to confirm the installation, if you trust the package, you can even suppress the confirmation prompt by adding `-y` flag like this: \n",
    "\n",
    "```bash \n",
    "choco install wget -y\n",
    "```\n",
    "\n",
    "- Voila, that is it, `wget` installed on your system and it is ready to for use. I told you, the using the command prompt will make your life easier. "
   ]
  },
  {
   "cell_type": "markdown",
   "id": "db1a5076",
   "metadata": {},
   "source": [
    "### Installing R Using `choco` \n",
    "\n",
    "- Installing R using `choco` package manager is the easiest and fastest way, it is simply typing a simple command and it will do most of the things for you, like downloading, check data integrity and adding R to the path. No intervention from you, simply type the following command, and if you don't wish for confirmation prompt add `-y` flag. However, if you are interested in the file that does all this, you can do that by typing `p` when it is prompted that to you, if satisfied, type `y` to proceed. \n",
    "\n",
    "```bash\n",
    "choco install r -y\n",
    "```"
   ]
  },
  {
   "cell_type": "markdown",
   "id": "4cebb0e4",
   "metadata": {},
   "source": [
    "### Downloading R and Running The Installer \n",
    "\n",
    "- Now, it is time to download R installer, check its data integrity, then run the installer all from within the command prompt, at this stage we will accept the default settings provided with the installer. Here the steps of processing the installation: \n",
    "\n",
    " 1. Let us create a folder (directory) like `Rstuff` in `C:\\Users\\Public\\RStuff`  , the placement where the installer will be using the this command (You can create the folder of your choice)\n",
    "\n",
    "```bash\n",
    "mkdir Rstuff\n",
    "cd Rstuff\n",
    "```\n",
    " 2. Download the installer using the installer using `wget`\n",
    " \n",
    "```bash\n",
    "wget https://cran.r-project.org/bin/windows/base/R-4.3.1-win.exe\n",
    "```\n",
    "\n",
    " 3. Check the integrity if you wish with the hash key provided, if they don't match, it means that the installer did not download correctly of it is tampered with. \n",
    "     - First, you need to check the hash-key or [fingerprint](https://cran.r-project.org/bin/windows/base/md5sum.R-4.3.1.txt)\n",
    "     - Generate the hash key for the installer using `cerutil` utility.\n",
    "     - Compare the keys\n",
    "     - You can save both keys in different files then use the `cf` command to make sure that keys are really match.\n",
    "     \n",
    "- Here are the steps of checking data integrity: \n",
    "\n",
    "```bash\n",
    "certutil -shasum installer MD5\n",
    "\n",
    "# You may save this to a file \n",
    "certutil -shasum installer MD5 > genkey.txt\n",
    "# Copy and paste the provided key getkey.txt\n",
    "# Compare the two files \n",
    "cf genkey.txt getkey.txt\n",
    "```\n",
    "\n",
    "- If you get the message `no difference encountered` then you are good to go. If the files don't match, you need to consider downloading the software again. \n",
    "\n",
    "\n",
    "4. Run the installer: You can simply run the installer from the command prompt, and R will be installed on your system, you may need to confirm the installation, or you may change the directory to a directory where you wish the installation to take place.\n",
    "\n",
    "```bash\n",
    "R-4.3.1-win.exe\n",
    "```\n",
    "\n",
    " - Now, R is installed. "
   ]
  },
  {
   "cell_type": "markdown",
   "id": "3cddf8c0",
   "metadata": {},
   "source": [
    "### Advanced Installation\n",
    "\n",
    "- This section is meant to professionals who wants to have full control over installing the package like changing the default directory, and silencing the installation or setting environment variables. This can be achieved easily with the paid version of `choco`, however, we are interested in open source tools, even it takes a little more effort to read the documentation of R (or any other package). We will provide how to do that with in here and refer you to section where it is explained:\n",
    "    - Download the installer using `wget` as explained above.\n",
    "    - Read this [section](https://cran.r-project.org/bin/windows/base/rw-FAQ.html#Can-I-customize-the-installation_003f) from R documentation: \n",
    "        - Set the default installation directory `‘/DIR=\"x:\\dirname\"’` \n",
    "        - `‘/CURRENTUSER’` to install for the current user only even if the current user has Administrator privileges. \n",
    "        - Silence the installation using one of these options:\n",
    "            - `‘/SILENT’` to only show the installation progress window and error messages.\n",
    "            - `/VERYSILENT’` to only show error messages.\n",
    "            \n",
    "- Here is an example to install R in `C:\\Renv` (Renv is directory where the installation will take place) for the current user and totally silencing the installation\n",
    "\n",
    "```bash\n",
    "R-4.3.1-win.exe \"/Dir=C:\\Renv /CURRENTUSER /VERYSILENT\"\n",
    "```"
   ]
  },
  {
   "cell_type": "markdown",
   "id": "7d8b51c9",
   "metadata": {},
   "source": [
    "### Checking the Path\n",
    "\n",
    "- You may want to check that `R` has been added to the path by typing `R` in the command prompt, if for some reason it hasn't been added, we can add it to the path using either the command prompt or the graphical user interface. In this section, we add R to the path using the command prompt (in administrator mode). \n",
    " \n",
    "```bash\n",
    "setx /m \"path-to-R;%PATH%\"\n",
    "```\n",
    "\n",
    "- That is it, relaunch the command prompt and start using R from there. I told you, using the command prompt is incredibly fast and amazing. \n",
    "\n",
    "### Adding R to Path Manually\n",
    "\n",
    "- Open the run dialog (this is the easiest way)\n",
    "     - Type `sysdm.cpl` in the Run dialog and press enter\n",
    "     - The System properties will pop up\n",
    "     - Go advanced tab \n",
    "     - Press on Environment variables\n",
    "     - Go to System variable and find `path` and press on edit (This will add Python system wide)\n",
    "     - Press on `new`\n",
    "     - Add the location of the executable Python, this location looks like this `C:\\Program Files\\R\\bin`\n",
    "     - Press ok \n",
    "     - You can add Python to this specific user the same way you did with system variable from `User variables`\n",
    "     - When you finish, press ok, the ok from the environment variables and finally Ok. \n",
    "     - Test that R has been added to the path from the command prompt by typing `R --version` there. "
   ]
  },
  {
   "cell_type": "markdown",
   "id": "eb593cf5-5661-46ef-ba18-a48ac6efeb10",
   "metadata": {},
   "source": [
    "## Installing RStudio\n",
    "\n",
    "- RStudio is an incredibly useful Integrated Development Environment or IDE for writing and using by many data scientists. \n",
    "\n",
    "- **RStudio is used for writing and testing R codes, because it provides**\n",
    "    - Console window\n",
    "    - Code editor\n",
    "    - tools for creating plot graphics and debugging code.\n",
    "    - You can even support  version control features. "
   ]
  },
  {
   "cell_type": "markdown",
   "id": "a1b2da0f-ee9b-408d-b5a5-8d4dfa1a1daf",
   "metadata": {},
   "source": [
    "```{warning}\n",
    "RStudio will not function unless R is already installed on your machine. It is important to understand that R and RStudio are two separate installations: R is the programming language itself, while RStudio is an integrated development environment (IDE) that provides a user-friendly interface for working with R. Therefore, you must first install R, and then install RStudio to ensure everything works correctly.\n",
    "```\n",
    "- Install [RStudio](https://posit.co/download/rstudio-desktop/)"
   ]
  },
  {
   "cell_type": "markdown",
   "id": "476f69fc-ebc6-489a-bf87-a8b68438d199",
   "metadata": {},
   "source": [
    "```bash\n",
    "wget https://posit.co/download/rstudio-desktop/\n",
    "\n",
    "# check the data integrity\n",
    "# run the installer\n",
    "```\n",
    "\n",
    "- Let `Choco` do the job for you\n",
    "\n",
    "```bash\n",
    "choco install rstudio\n",
    "```"
   ]
  },
  {
   "cell_type": "code",
   "execution_count": null,
   "id": "d1a17f26",
   "metadata": {},
   "outputs": [],
   "source": []
  }
 ],
 "metadata": {
  "kernelspec": {
   "display_name": "R",
   "language": "R",
   "name": "ir"
  },
  "language_info": {
   "codemirror_mode": "r",
   "file_extension": ".r",
   "mimetype": "text/x-r-source",
   "name": "R",
   "pygments_lexer": "r",
   "version": "4.1.2"
  }
 },
 "nbformat": 4,
 "nbformat_minor": 5
}
