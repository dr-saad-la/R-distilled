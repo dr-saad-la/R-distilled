{
 "cells": [
  {
   "cell_type": "markdown",
   "id": "aa6be939-c4d9-48e7-b891-f5dca48c6c77",
   "metadata": {},
   "source": [
    "## The Launcher\n",
    "\n",
    "- The initial interface you encounter is called the \"JupyterLab Launcher.\" This launcher serves as a hub where you can access and manage various tools and resources for your data science and programming tasks. Here's a breakdown of what you'll typically find on the JupyterLab Dashboard:\n",
    "\n",
    "- Notebook Section: At the top of the launcher, you'll see the \"Notebook\" section. This is where you can create, open, and manage your Jupyter notebooks.\n",
    "\n",
    "\n",
    "- The big icons in the JupyterLab Launcher that allow you to start new activities, such as creating a new notebook or console, are often referred to as \"Launcher Cards\" or simply \"Cards.\" \n",
    "\n",
    "- These cards provide a visually appealing and easily accessible way to initiate different types of activities within JupyterLab. Each card typically represents a specific action or tool that you can launch with a single click.\n",
    "\n",
    "- You can create a new jupyter notebook by pressing on this card. \n",
    "\n",
    "\n",
    "- Console Section:\n",
    "    - Just below the notebook section, you'll find the \"Console\" section. This area is where you can interact with programming languages directly through a console interface. For example, you can open Python or R consoles here to execute code and see immediate results without creating a full notebook. This is useful for quick experimentation and testing.\n",
    "\n",
    "- Other Tools and Terminals:\n",
    "    - This area includes terminals, where you can run command-line commands directly from within JupyterLab. There is also text editor and markdown editor. "
   ]
  },
  {
   "cell_type": "markdown",
   "id": "1e629bc5-7e68-4532-8d5a-c80c16ef46ba",
   "metadata": {},
   "source": [
    "## First Look at Jupyter Lab\n",
    "\n",
    "- This empty area that has one empty `cell`, this is called a cell (this is the first term you learn if this is the first time you work with jupyter), the whole are that holds the cells is referred to as the \"Jupyter Lab Workspace\" or simply the \"Workspace.\" \n",
    "\n",
    "- It's the graphical user interface (GUI) where you interact with your notebooks, code cells, markdown cells, and other features provided by Jupyter Lab.\n",
    "\n",
    "- The workspace includes various panels, tabs, and tools that allow you to manage and organize your notebooks, code, and outputs. \n",
    "\n",
    "- It's the environment where you can create, edit, and execute your code, as well as perform tasks such as managing files, installing packages, and visualizing data. The workspace layout can be customized to suit your preferences and workflow."
   ]
  },
  {
   "cell_type": "markdown",
   "id": "2477b507-b576-4571-a0cb-a5abedd79238",
   "metadata": {},
   "source": [
    "## The Menu Bar\n",
    "\n",
    "- The bar that contains the menus in JupyterLab is known as the \"Menu Bar.\" The Menu Bar provides access to various menus that contain a wide range of commands and options for managing your JupyterLab environment, notebooks, files, and more.\n",
    "\n",
    "- The Menu Bar usually includes menus like:\n",
    "\n",
    "    - File: This menu allows you to perform operations related to files and notebooks, such as creating new notebooks, saving notebooks, and exporting notebooks in various formats.\n",
    "\n",
    "    - Edit: The Edit menu provides commands for editing cells, copying, cutting, pasting, and other editing operations.\n",
    "\n",
    "    - View: In the View menu, you can control the visibility of different panels, configure the layout, and toggle various interface elements.\n",
    "\n",
    "    - Insert: The Insert menu lets you add new cells to your notebook and choose their type (code or markdown).\n",
    "\n",
    "    - Kernel: This menu contains commands for managing the kernels associated with your notebook. You can start, interrupt, restart, and shut down kernels from here.\n",
    "\n",
    "    - Run: The Run menu provides options to execute code cells, run all cells, and restart the kernel and run all cells.\n",
    "\n",
    "    - Cell: This menu contains commands for manipulating cells, such as merging, splitting, and changing cell types.\n",
    "\n",
    "    - Widgets: If you're using interactive widgets, this menu provides options to manage and interact with them.\n",
    "\n",
    "    - Help: The Help menu includes resources for getting help, accessing keyboard shortcuts, and finding additional documentation.\n",
    "    \n",
    "- Each item within a menu in JupyterLab is typically referred to as a \"Menu Item\" or \"Menu Option.\" Menu items are specific commands or options that you can select to perform various actions or access different functionalities within the JupyterLab interface.\n",
    "\n",
    "- For example, within the \"File\" menu, you might have menu items like:\n",
    "    - New Notebook\n",
    "    - Open Notebook\n",
    "    - Save Notebook\n",
    "    - Save Notebook As\n",
    "    - Export Notebook As\n"
   ]
  },
  {
   "cell_type": "markdown",
   "id": "8ca486a4-f518-4abb-adc2-075025949a78",
   "metadata": {},
   "source": [
    "## The tool bar\n",
    "\n",
    "- This bar is typically referred to as the \"Toolbar.\" The toolbar provides quick access to various actions and functionalities that you can perform within the JupyterLab interface. These actions often include creating new cells, copying and cutting cells, moving cells, and other essential operations.\n",
    "\n",
    "- The toolbar is an important part of the JupyterLab user interface, allowing you to interact with your notebook documents and other content easily and efficiently. The specific icons available in the toolbar may vary based on your current mode (command mode or edit mode) and the context in which you are working."
   ]
  },
  {
   "cell_type": "code",
   "execution_count": null,
   "id": "5d9c6249-f079-4875-986c-664b63af98ad",
   "metadata": {},
   "outputs": [],
   "source": []
  },
  {
   "cell_type": "markdown",
   "id": "60872ece-c578-49e2-b587-5b68d9341bdf",
   "metadata": {},
   "source": [
    "### Check Jupyter Lab Version\n",
    "\n",
    " - You can check jupyter lab version like this:"
   ]
  },
  {
   "cell_type": "code",
   "execution_count": 1,
   "id": "a5665212-8424-423e-97d6-217858152881",
   "metadata": {
    "tags": []
   },
   "outputs": [
    {
     "name": "stdout",
     "output_type": "stream",
     "text": [
      "3.6.3\n"
     ]
    }
   ],
   "source": [
    "%%bash\n",
    "jupyter lab --version"
   ]
  },
  {
   "cell_type": "code",
   "execution_count": 2,
   "id": "06bb729b-0bd6-423a-81ff-877103252bec",
   "metadata": {
    "tags": []
   },
   "outputs": [
    {
     "name": "stdout",
     "output_type": "stream",
     "text": [
      "3.6.3\n"
     ]
    }
   ],
   "source": [
    "import jupyterlab\n",
    "print(jupyterlab.__version__)"
   ]
  },
  {
   "cell_type": "markdown",
   "id": "a4e9b69e-d941-4b29-9d58-0950b4bd9117",
   "metadata": {},
   "source": [
    "---"
   ]
  },
  {
   "cell_type": "markdown",
   "id": "1d71de75-adb6-42e9-bee0-d948033b3c81",
   "metadata": {},
   "source": [
    "## The Essentials of Jupyter lab\n",
    "\n",
    "### Jupyter Lab tool bar\n",
    "\n",
    "- The first thing after we open jupyter notebook, we see at the top part, the tool bar, we have the save icon, the `+` plus, for adding a cell, when you press on it you see a cell is added below. So, we call this empty dialog or rectangle a **cell**\n",
    "\n",
    "- And you have the `cut` to cut a cell, for example \n",
    "\n",
    "- The `copy` to copy the cell content\n",
    "\n",
    "- The `paste`\n",
    "\n",
    "- The `triangle` to run the cell, the shortcut is:\n",
    "    - Run and add a cell below: `shift + enter`\n",
    "    - Run and stay in the same cell `ctrl + enter`\n",
    "    - Activate the cell, type `enter`\n",
    "\n",
    "- For example, I hit `ctrl + enter`, then I activate it using `enter`\n",
    "\n",
    "\n",
    "- The square to stop or interupt the kernel, if it takes so long, you did a mistake. \n",
    "\n",
    "- This circular arrow is to restart the kernel\n",
    "- The double triangle to restart and run all. "
   ]
  },
  {
   "cell_type": "markdown",
   "id": "3510c140-666f-4621-94f4-0e13fa8e5872",
   "metadata": {},
   "source": [
    "### Code, Markdown and Raw\n",
    "\n",
    "- **Code Cell**: This is where you can write and execute code. Code cells are used for running Python code (or other supported languages) and displaying the output.\n",
    "\n",
    "- **Markdown Cell**: This type of cell is used for creating and formatting text using Markdown syntax. Markdown cells are often used to provide explanations, documentation, or annotations alongside your code."
   ]
  },
  {
   "cell_type": "markdown",
   "id": "f2392ac6-ca58-4144-9f9f-75c0dc51eccd",
   "metadata": {},
   "source": [
    "## Using The keyboard shortcuts with Jupyter Lab\n",
    "\n",
    "- The Jupyter Notebook has two different keyboard input mode:  \n",
    "  - **Edit mode** allows you to type code or text into a cell and it looks activate.\n",
    "  - **Command mode** binds the keyboard to notebook level commands. \n",
    "  \n",
    "- Why you need this, if you want to be more productive and fast or you are a keyboard guy, the things that you do with the mouse, you can do using keyboard shortcuts. "
   ]
  },
  {
   "cell_type": "markdown",
   "id": "d81e5e52-3814-4419-b8bb-cd9cf409ad1a",
   "metadata": {},
   "source": [
    "## The `esc` Key\n",
    "\n",
    "- Let us talk about the `esc` key first, The \"Esc\" (Escape) key is typically located at the top-left corner of a standard computer keyboard, just above the \"F1\" function key. It is usually a rectangular key with the word \"Esc\" written on it.\n",
    "\n",
    "### Exit the edit mode\n",
    "\n",
    "- In Jupyter Notebook, the \"Esc\" key is referred to as the \"Escape\" key. It's often used to exit from edit mode (when you're editing a cell's content) \n",
    "\n",
    "### Enter the Command Mode\n",
    "- **Enter command mode** (where you can use keyboard shortcuts to perform various actions on cells). In command mode, you can utilize keyboard shortcuts to manipulate cells, create new cells, and perform other notebook-related tasks.\n",
    "\n",
    "- You can press `esc` and then another key (this binds two or more key to a command)\n",
    "\n",
    "- I will be focusing the command mode"
   ]
  },
  {
   "cell_type": "markdown",
   "id": "49f1c90b-4e4c-424e-ae29-dfc304d4599f",
   "metadata": {},
   "source": [
    "## Command Mode \n",
    "\n",
    "### Common shortcuts\n",
    " 1. `esc` + `b`: Press `esc` and lift your finger and then press `b`, to add a new cell below\n",
    " 2. `esc` + `a`: Add a cell above\n",
    " 3. `esc` + `c`: to copy a content of a cell\n",
    " 4. `esc` + `v`: To paste\n",
    " 5. `esc` + `x`: To cut a cell\n",
    " 6. `esc` + `m`: To change a cell to a markdown\n",
    " 7. `esc` + `y`: To change the content cell into a code \n",
    " 8. `esc` + `r`: To change to a content to raw \n",
    " 9. `esc` + `d` + `d`: To delete a cell\n",
    "10. `esc` + `z`: to undo an operation. "
   ]
  },
  {
   "cell_type": "markdown",
   "id": "af1b4fd5-3d05-4975-91aa-3b8e99f7dd66",
   "metadata": {},
   "source": [
    "## The File Menu"
   ]
  },
  {
   "cell_type": "markdown",
   "id": "91b6c4bb-5f7d-416a-9a35-03ba1792eb7c",
   "metadata": {},
   "source": [
    "## The Edit Menu"
   ]
  },
  {
   "cell_type": "code",
   "execution_count": null,
   "id": "3a896020-c95d-4cb2-a7b8-fa0f5b2c09ff",
   "metadata": {},
   "outputs": [],
   "source": []
  },
  {
   "cell_type": "markdown",
   "id": "8fd2943a-e8a8-422c-b0af-6ddf1b2912c7",
   "metadata": {},
   "source": [
    "## The View Menu"
   ]
  },
  {
   "cell_type": "code",
   "execution_count": null,
   "id": "337ae012-2df4-40ef-9ef4-e39025a37e66",
   "metadata": {},
   "outputs": [],
   "source": []
  },
  {
   "cell_type": "markdown",
   "id": "20710b7e-789e-4814-9a1e-f52d3c88a7bc",
   "metadata": {},
   "source": [
    "## The Run Menu\n"
   ]
  },
  {
   "cell_type": "code",
   "execution_count": null,
   "id": "6d3b9962-6ad5-4338-9554-764ae7e5dd16",
   "metadata": {},
   "outputs": [],
   "source": []
  },
  {
   "cell_type": "code",
   "execution_count": null,
   "id": "e7c2c4cf-4a7c-4bc3-87b2-d80110ef77a6",
   "metadata": {},
   "outputs": [],
   "source": [
    "## "
   ]
  },
  {
   "cell_type": "markdown",
   "id": "3b5131ea-f03a-42f6-a14e-aa6eab56d46c",
   "metadata": {},
   "source": []
  },
  {
   "cell_type": "code",
   "execution_count": null,
   "id": "9927cfb8-e87a-47c8-bb06-c229176ce06e",
   "metadata": {},
   "outputs": [],
   "source": []
  },
  {
   "cell_type": "code",
   "execution_count": null,
   "id": "86eaf170-94e5-4471-9ecf-c96f464c205e",
   "metadata": {},
   "outputs": [],
   "source": []
  },
  {
   "cell_type": "code",
   "execution_count": null,
   "id": "1614523b-9ab1-4883-9667-267966f99842",
   "metadata": {},
   "outputs": [],
   "source": []
  },
  {
   "cell_type": "markdown",
   "id": "e431e18d",
   "metadata": {},
   "source": [
    "## The JupyterLab Interface\n",
    "\n",
    "- \n",
    "\n",
    "[source](https://jupyterlab.readthedocs.io/en/stable/user/interface.html#the-jupyterlab-interface)"
   ]
  },
  {
   "cell_type": "markdown",
   "id": "8a7f307b-18e8-4c98-a076-e92ec0e10b78",
   "metadata": {},
   "source": [
    "### This is a header \n",
    "\n"
   ]
  },
  {
   "cell_type": "code",
   "execution_count": null,
   "id": "9f377150",
   "metadata": {},
   "outputs": [],
   "source": []
  },
  {
   "cell_type": "markdown",
   "id": "346a5631",
   "metadata": {},
   "source": [
    "### Splitting the Screen Into Multiple Screens\n",
    "\n"
   ]
  },
  {
   "cell_type": "markdown",
   "id": "12d121ba",
   "metadata": {},
   "source": [
    "### The View Menu\n",
    "\n"
   ]
  },
  {
   "cell_type": "markdown",
   "id": "f512e863-57a5-4a1f-9f6f-230691f08ac5",
   "metadata": {},
   "source": [
    "#### The Activate Command Palette\n",
    "\n",
    "- The shortcut is (command + shift + c) on Mac and (ctrl + shift + c) On Pc\n",
    "\n",
    "- \n",
    "\n",
    "[source](https://jupyterlab.readthedocs.io/en/stable/user/commands.html#command-palette)"
   ]
  },
  {
   "cell_type": "markdown",
   "id": "314823ae",
   "metadata": {},
   "source": [
    "### The Settings Menu\n",
    "\n",
    "1. Autosave document\n",
    "\n",
    "2. Auto-close brackets\n",
    "\n",
    "3. "
   ]
  },
  {
   "cell_type": "markdown",
   "id": "6f1a518d",
   "metadata": {},
   "source": [
    "### Checking the Installed Extensions\n",
    "\n",
    "\n",
    "```bash\n",
    "jupyter labextension list\n",
    "```"
   ]
  },
  {
   "cell_type": "markdown",
   "id": "8d9b3fd1",
   "metadata": {},
   "source": [
    "**1. Activating The Contextual Menu:**\n",
    "   - Go View then Activate command palette (command (ctrl)+ shift + C)\n",
    "   - This will help me when teaching and I don't have to remember the arguments available in a function. \n",
    "   \n",
    " \n",
    "**2. Context Help menu**: The shortcut for this is `ctrl (command) + i`. This will show the help of a function. \n",
    "\n"
   ]
  },
  {
   "cell_type": "code",
   "execution_count": null,
   "id": "561545fd",
   "metadata": {},
   "outputs": [],
   "source": []
  },
  {
   "cell_type": "markdown",
   "id": "e7690e03",
   "metadata": {},
   "source": [
    "### Render with Panel\n",
    "\n",
    "\n",
    "url = https://panel.holoviz.org/"
   ]
  },
  {
   "cell_type": "markdown",
   "id": "8bab059e-c248-4ae3-ab8e-dbf3099724b6",
   "metadata": {},
   "source": [
    "## Shortcuts \n",
    "\n",
    "    1. Command Mode (press Esc to enable)\n",
    "    2. F : find and replace\n",
    "    3. Ctrl-Shift-F : open the command palette\n",
    "    4. Ctrl-Shift-P : open the command palette\n",
    "    Enter : enter edit mode\n",
    "    P : open the command palette\n",
    "    Shift-Enter : run cell, select below\n",
    "    Ctrl-Enter : run selected cells\n",
    "    Alt-Enter : run cell and insert below\n",
    "    Y : change cell to code\n",
    "    M : change cell to markdown\n",
    "    R : change cell to raw\n",
    "    1 : change cell to heading 1\n",
    "    2 : change cell to heading 2\n",
    "    3 : change cell to heading 3\n",
    "    4 : change cell to heading 4\n",
    "    5 : change cell to heading 5\n",
    "    6 : change cell to heading 6\n",
    "    K : select cell above\n",
    "    Up : select cell above\n",
    "    Down : select cell below\n",
    "    J : select cell below\n",
    "    Shift-K : extend selected cells above\n",
    "    Shift-Up : extend selected cells above\n",
    "    Shift-Down : extend selected cells below\n",
    "    Shift-J : extend selected cells below\n",
    "    Ctrl-A : select all cells\n",
    "    A : insert cell above\n",
    "    B : insert cell below\n",
    "    X : cut selected cells\n",
    "    C : copy selected cells\n",
    "    Shift-V : paste cells above\n",
    "    V : paste cells below\n",
    "    Z : undo cell deletion\n",
    "    D,D : delete selected cells\n",
    "    Shift-M : merge selected cells, or current cell with cell below if only one cell is selected\n",
    "    Ctrl-S : Save and Checkpoint\n",
    "    S : Save and Checkpoint\n",
    "    L : toggle line numbers\n",
    "    O : toggle output of selected cells\n",
    "    Shift-O : toggle output scrolling of selected cells\n",
    "    H : show keyboard shortcuts\n",
    "    I,I : interrupt the kernel\n",
    "    0,0 : restart the kernel (with dialog)\n",
    "    Ctrl-V : Dialog for paste from system clipboard\n",
    "    Esc : close the pager\n",
    "    Q : close the pager\n",
    "    Shift-L : toggles line numbers in all cells, and persist the setting\n",
    "    Shift-Space : scroll notebook up\n",
    "    Space : scroll notebook down\n",
    "    Edit Mode (press Enter to enable)\n",
    "    Tab : code completion or indent\n",
    "    Shift-Tab : tooltip\n",
    "    Ctrl-] : indent\n",
    "    Ctrl-[ : dedent\n",
    "    Ctrl-A : select all\n",
    "    Ctrl-Z : undo\n",
    "    Ctrl-/ : comment\n",
    "    Ctrl-D : delete whole line\n",
    "    Ctrl-U : undo selection\n",
    "    Insert : toggle overwrite flag\n",
    "    Ctrl-Home : go to cell start\n",
    "    Ctrl-Up : go to cell start\n",
    "    Ctrl-End : go to cell end\n",
    "    Ctrl-Down : go to cell end\n",
    "    Ctrl-Left : go one word left\n",
    "    Ctrl-Right : go one word right\n",
    "    Ctrl-Backspace : delete word before\n",
    "    Ctrl-Delete : delete word after\n",
    "    Ctrl-Y : redo\n",
    "    Alt-U : redo selection\n",
    "    Ctrl-M : enter command mode\n",
    "    Ctrl-Shift-F : open the command palette\n",
    "    Ctrl-Shift-P : open the command palette\n",
    "    Esc : enter command mode\n",
    "    Shift-Enter : run cell, select below\n",
    "    Ctrl-Enter : run selected cells\n",
    "    Alt-Enter : run cell and insert below\n",
    "    Ctrl-Shift-Minus : split cell at cursor(s)\n",
    "    Ctrl-S : Save and Checkpoint\n",
    "    Down : move cursor down\n",
    "    Up : move cursor up\n",
    "\n",
    "\n",
    "[source](https://nocomplexity.com/documents/jupyterlab/keyboardshortcuts.html)"
   ]
  }
 ],
 "metadata": {
  "kernelspec": {
   "display_name": "Python3.11",
   "language": "python",
   "name": "python3"
  },
  "language_info": {
   "codemirror_mode": {
    "name": "ipython",
    "version": 3
   },
   "file_extension": ".py",
   "mimetype": "text/x-python",
   "name": "python",
   "nbconvert_exporter": "python",
   "pygments_lexer": "ipython3",
   "version": "3.11.4"
  },
  "toc-autonumbering": false,
  "toc-showcode": false,
  "toc-showmarkdowntxt": false,
  "widgets": {
   "application/vnd.jupyter.widget-state+json": {
    "state": {},
    "version_major": 2,
    "version_minor": 0
   }
  }
 },
 "nbformat": 4,
 "nbformat_minor": 5
}
